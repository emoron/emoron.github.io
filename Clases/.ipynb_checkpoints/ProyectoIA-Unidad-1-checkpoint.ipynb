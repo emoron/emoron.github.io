{
 "cells": [
  {
   "cell_type": "markdown",
   "metadata": {},
   "source": [
    "# Proyecto de Inteligencia Artificial\n",
    "## Primera Unidad\n",
    "### Búsqueda Informada y no Informada\n",
    "\n",
    "A continuación leer cuidadosamente el problema y aplicar los algoritmos de búsqueda que revisamos en clase. Para cada problema es necesario determinar el espacio de nodos de búsqueda además de mostrar en cada caso que algoritmo se utilizó para su solución.\n"
   ]
  },
  {
   "cell_type": "markdown",
   "metadata": {},
   "source": [
    "## Problema 1\n",
    "A continuación se muestra un conjunto de palabras, las cuales deberán ir acomodadas de tal manera que cada palabra inicie donde aparecen la letra de las que se muestran. Para efectos de iniciar se ha seleccionado una palabra en el lugar que le corresponde.\n",
    "![Arreglo Palabras](img/problema1.png)"
   ]
  },
  {
   "cell_type": "markdown",
   "metadata": {},
   "source": [
    "## Problema 2.\n",
    "\n",
    "A continuación se muestra un gráfo en el cual al lado de cada arista aparece un espacio en blanco que deberá llevar las cifras del 1 al 9, para lo cual es la suma de los nodos comprendidos entre cada arista debe corresponder. Utilizando búsqueda en profundidad acotada acomodar los número en el lugar correspondiente.\n",
    "![Grafo Numérico](img/problema2.png)"
   ]
  },
  {
   "cell_type": "markdown",
   "metadata": {
    "collapsed": false
   },
   "source": [
    "## Problema 3\n",
    "\n",
    "En cada círculo vacío hay que colocar un número del 1 al 9, para que las operaciones sean correctas (de izquierda a derecha y de arriba abajo). Ningún resultado intermedio es negativo y en algunos casos pueden existir diferentes combinaciones.\n",
    "![title](img/problema3.png)"
   ]
  }
 ],
 "metadata": {
  "kernelspec": {
   "display_name": "Python 2",
   "language": "python",
   "name": "python2"
  },
  "language_info": {
   "codemirror_mode": {
    "name": "ipython",
    "version": 2
   },
   "file_extension": ".py",
   "mimetype": "text/x-python",
   "name": "python",
   "nbconvert_exporter": "python",
   "pygments_lexer": "ipython2",
   "version": "2.7.12"
  }
 },
 "nbformat": 4,
 "nbformat_minor": 0
}
