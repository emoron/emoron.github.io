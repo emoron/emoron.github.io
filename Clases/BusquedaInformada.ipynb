{
 "cells": [
  {
   "cell_type": "code",
   "execution_count": 2,
   "metadata": {
    "collapsed": false
   },
   "outputs": [],
   "source": [
    "from IPython.display import Image\n",
    "from IPython.core.display import HTML \n"
   ]
  },
  {
   "cell_type": "markdown",
   "metadata": {},
   "source": [
    "# Algoritmos de Busqueda Informada\n",
    "Los algoritmos de busqueda informada permite encontrar la solución a determinados problemas si se da información relacionada con la distancia o con la cantidad de memoria que se puede disponer para su ejecución.\n",
    "\n",
    "## Algoritmo A*\n",
    "\n",
    "> - Si el nodo inicial es igual al nodo final, se retorna el nodo inicial como solución\n",
    "> - Si no, se adiciona el nodo inicial a la lista abierta\n",
    "> - Mientras la lista abierta no esté vacía, se recorre cada nodo que haya en la lista abierta y se toma el que tenga el costo total más bajo\n",
    "> - Si el nodo obtenido es igual al nodo final, se retornan todos los nodos sucesores al nodo encontrado\n",
    "> - Si no , se toma el nodo y se elimina de la lista abierta para guardarse en la lista cerrada y se buscan todos los nodos adyacentes al nodo obtenido y se adicionan a la lista abierta a menos que el nodo se encuentre en la lista cerrada o que el nodo sea sólido\n",
    "> - Si el nodo adyacente ya se encuentra en la lista abierta se verifica que el costo sea menor, si es menor se cambian los valores de costo, sino se ignora\n",
    "Se vuelve al paso 3 y se repite hasta que el punto 4 sea verdadero o que la lista abierta quede vacía\n",
    "\n",
    "A continuación se muestra el ejemplo visto en clase si deseamos mover la celda azul a la posición de la celda roja, deberemos calcular las distancias a cada celda a el estado final."
   ]
  },
  {
   "cell_type": "code",
   "execution_count": 3,
   "metadata": {
    "collapsed": false
   },
   "outputs": [
    {
     "data": {
      "text/html": [
       "<img src=\"https://escarbandocodigo.files.wordpress.com/2011/07/pathfinding0.png?w=698\"/>"
      ],
      "text/plain": [
       "<IPython.core.display.Image object>"
      ]
     },
     "execution_count": 3,
     "metadata": {},
     "output_type": "execute_result"
    }
   ],
   "source": [
    "Image(url= \"https://escarbandocodigo.files.wordpress.com/2011/07/pathfinding0.png?w=698\")"
   ]
  },
  {
   "cell_type": "code",
   "execution_count": null,
   "metadata": {
    "collapsed": true
   },
   "outputs": [],
   "source": []
  }
 ],
 "metadata": {
  "kernelspec": {
   "display_name": "Python 2",
   "language": "python",
   "name": "python2"
  },
  "language_info": {
   "codemirror_mode": {
    "name": "ipython",
    "version": 2
   },
   "file_extension": ".py",
   "mimetype": "text/x-python",
   "name": "python",
   "nbconvert_exporter": "python",
   "pygments_lexer": "ipython2",
   "version": "2.7.12"
  }
 },
 "nbformat": 4,
 "nbformat_minor": 1
}
