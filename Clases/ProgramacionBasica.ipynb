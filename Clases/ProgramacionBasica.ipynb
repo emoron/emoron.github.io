{
 "cells": [
  {
   "cell_type": "markdown",
   "metadata": {},
   "source": [
    "# Computación 1\n",
    "## Programación Básica\n",
    "\n",
    "### Actividad 1\n",
    "\n",
    "Accede a la página pencilcode.net y realiza las actividades básicas que se muestran en la pagina: Creación de Líneas, Movimiento de la tortuga y cambio de color de líneas.\n",
    "\n",
    "### Actividad 2\n",
    "* Usando los comando básicos intenta dibujar una estrella de 12 puntas.\n",
    "* Dibujar una Espiral.\n",
    "* Construir un tablero de ajedrez."
   ]
  }
 ],
 "metadata": {
  "kernelspec": {
   "display_name": "Python 2",
   "language": "python",
   "name": "python2"
  },
  "language_info": {
   "codemirror_mode": {
    "name": "ipython",
    "version": 2
   },
   "file_extension": ".py",
   "mimetype": "text/x-python",
   "name": "python",
   "nbconvert_exporter": "python",
   "pygments_lexer": "ipython2",
   "version": "2.7.10"
  }
 },
 "nbformat": 4,
 "nbformat_minor": 1
}
