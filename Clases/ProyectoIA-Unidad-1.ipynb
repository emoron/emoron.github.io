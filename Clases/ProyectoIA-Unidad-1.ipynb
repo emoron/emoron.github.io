{
 "cells": [
  {
   "cell_type": "markdown",
   "metadata": {},
   "source": [
    "# Proyecto de Inteligencia Artificial\n",
    "## Primera Unidad\n",
    "### Búsqueda Informada y no Informada\n",
    "\n",
    "A continuación leer cuidadosamente el problema y aplicar los algoritmos de búsqueda que revisamos en clase. Para cada problema es necesario determinar el espacio de nodos de búsqueda además de mostrar en cada caso que algoritmo se utilizó para su solución.\n"
   ]
  },
  {
   "cell_type": "markdown",
   "metadata": {},
   "source": [
    "## Problema 1\n",
    "A continuación se muestra un conjunto de palabras, las cuales deberán ir acomodadas de tal manera que cada palabra inicie donde aparecen la letra de las que se muestran. Para efectos de iniciar se ha seleccionado una palabra en el lugar que le corresponde.\n",
    "![title](img/problema1.png)"
   ]
  },
  {
   "cell_type": "markdown",
   "metadata": {},
   "source": [
    "## Problema 2.\n",
    "\n",
    "A continuación se muestra un gráfo en el cual al lado de cada arista aparece un número, el cual es la suma de los nodos comprendidos entre cada arista. Utilizando búsqueda en profundidad acomodar los número en el lugar correspondiente.\n",
    "![title](img/problema2.png)"
   ]
  },
  {
   "cell_type": "code",
   "execution_count": 10,
   "metadata": {
    "collapsed": false
   },
   "outputs": [
    {
     "data": {
      "text/html": [
       "<img src=\"http://localhost:8889/proyectoIA/img/problema2.png\"/>"
      ],
      "text/plain": [
       "<IPython.core.display.Image object>"
      ]
     },
     "execution_count": 10,
     "metadata": {},
     "output_type": "execute_result"
    }
   ],
   "source": [
    "from IPython.display import Image\n",
    "from IPython.core.display import HTML \n",
    "Image(url= \"http://localhost:8889/proyectoIA/img/problema2.png\")"
   ]
  }
 ],
 "metadata": {
  "kernelspec": {
   "display_name": "Python 2",
   "language": "python",
   "name": "python2"
  },
  "language_info": {
   "codemirror_mode": {
    "name": "ipython",
    "version": 2
   },
   "file_extension": ".py",
   "mimetype": "text/x-python",
   "name": "python",
   "nbconvert_exporter": "python",
   "pygments_lexer": "ipython2",
   "version": "2.7.12"
  }
 },
 "nbformat": 4,
 "nbformat_minor": 0
}
