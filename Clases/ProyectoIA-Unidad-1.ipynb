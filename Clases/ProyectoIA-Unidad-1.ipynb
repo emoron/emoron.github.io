{
 "cells": [
  {
   "cell_type": "markdown",
   "metadata": {},
   "source": [
    "# Proyecto de Inteligencia Artificial\n",
    "## Primera Unidad\n",
    "### Búsqueda Informada y no Informada\n",
    "\n",
    "A continuación leer cuidadosamente el problema y aplicar los algoritmos de búsqueda que revisamos en clase. Para cada problema es necesario determinar el espacio de nodos de búsqueda además de mostrar en cada caso que algoritmo se utilizó para su solución.\n"
   ]
  },
  {
   "cell_type": "markdown",
   "metadata": {},
   "source": [
    "## Problema 1\n",
    "A continuación se muestra un conjunto de palabras, las cuales deberán ir acomodadas de tal manera que cada palabra inicie donde aparecen la letra de las que se muestran. Para efectos de iniciar se ha seleccionado una palabra en el lugar que le corresponde.\n",
    "![Arreglo Palabras](img/problema1.png)"
   ]
  },
  {
   "cell_type": "markdown",
   "metadata": {},
   "source": [
    "## Problema 2.\n",
    "\n",
    "A continuación se muestra un gráfo en el cual al lado de cada arista aparece un espacio en blanco que deberá llevar las cifras del 1 al 9, para lo cual es la suma de los nodos comprendidos entre cada arista debe corresponder. Utilizando búsqueda en profundidad acotada acomodar los número en el lugar correspondiente.\n",
    "![Grafo Numérico](img/problema2.png)"
   ]
  },
  {
   "cell_type": "markdown",
   "metadata": {
    "collapsed": false
   },
   "source": [
    "## Problema 3\n",
    "\n",
    "En cada círculo vacío hay que colocar un número del 1 al 9, para que las operaciones sean correctas (de izquierda a derecha y de arriba abajo). Ningún resultado intermedio es negativo y en algunos casos pueden existir diferentes combinaciones.\n",
    "![title](img/problema3.png)"
   ]
  },
  {
   "cell_type": "markdown",
   "metadata": {},
   "source": [
    "## Problema 3\n",
    "\n",
    "Un conocido esta realizando investigación del Problema del Caballero Viajero donde tienes que encontrar el camino más cercano para mover un caballero a cada cuadro que visita de un conjunto de n cuadrados en un tablero de ajedrez. El piensa que la parte más dificil es determinar el mínimo número de movimientos entre dos cuadrados y que una vez encontrado esto, describir el camino será sencillo.\n",
    "\n",
    "Deberás escribir un programa que tome dos cuadrados a y b como entrada y entonces determina el numero de movimientos más corto en una ruta desde a hasta b.\n",
    "\n",
    "La entrada del problema es un arreglo con los distintos puntos en cordenadas de la siguiente manera, la columna se describe con una letra (a..h) y la fila con un número del (1..8). De tal manera que tenemos como entrada:\n",
    "```python\n",
    "a = [\"e2 e4\",\"a1 b2\",\"b2 c3\",\"a1 h8\",\"a1 h7\",\"h8 a1\",\"b1 c3\",\"f6 f6\"]\n",
    "```\n",
    "\n",
    "Y como salida el programa deberá mostrar:\n",
    "```python\n",
    "para llegar de e2 a e4 toma 2 movimientos.\n",
    "para llegar de a1 a b2 toma 4 movimientos.\n",
    "para llegar de b2 a c3 toma 2 movimientos.\n",
    "para llegar de a1 a h8 toma 6 movimientos.\n",
    "para llegar de a1 a h7 toma 5 movimientos.\n",
    "para llegar de h8 a a1 toma 6 movimientos.\n",
    "para llegar de b1 a c3 toma 1 movimientos.\n",
    "para llegar de f6 a f6 toma 0 movimientos.\n",
    "```\n"
   ]
  },
  {
   "cell_type": "code",
   "execution_count": 5,
   "metadata": {
    "collapsed": true
   },
   "outputs": [],
   "source": []
  }
 ],
 "metadata": {
  "kernelspec": {
   "display_name": "Python 2",
   "language": "python",
   "name": "python2"
  },
  "language_info": {
   "codemirror_mode": {
    "name": "ipython",
    "version": 2
   },
   "file_extension": ".py",
   "mimetype": "text/x-python",
   "name": "python",
   "nbconvert_exporter": "python",
   "pygments_lexer": "ipython2",
   "version": "2.7.12"
  }
 },
 "nbformat": 4,
 "nbformat_minor": 0
}
