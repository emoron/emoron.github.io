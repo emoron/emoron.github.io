{
 "cells": [
  {
   "cell_type": "code",
   "execution_count": null,
   "metadata": {
    "collapsed": true
   },
   "outputs": [],
   "source": [
    "%matplotlib inline\n",
    "import numpy as np\n",
    "import matplotlib.pyplot as plt\n",
    "\n",
    "\n",
    "from IPython.display import (\n",
    "    display, display_html, display_png, display_svg\n",
    ")\n",
    "\n",
    "\n",
    "from IPython.core.pylabtools import print_figure\n",
    "from IPython.display import Image, SVG, Math\n",
    "\n",
    "class Gaussian(object):\n",
    "    \"\"\"A simple object holding data sampled from a Gaussian distribution.\n",
    "    \"\"\"\n",
    "    def __init__(self, mean=0.0, std=1, size=1000):\n",
    "        self.data = np.random.normal(mean, std, size)\n",
    "        self.mean = mean\n",
    "        self.std = std\n",
    "        self.size = size\n",
    "        # For caching plots that may be expensive to compute\n",
    "        self._png_data = None\n",
    "        \n",
    "    def _figure_data(self, format):\n",
    "        fig, ax = plt.subplots()\n",
    "        ax.hist(self.data, bins=50)\n",
    "        ax.set_title(self._repr_latex_())\n",
    "        ax.set_xlim(-10.0,10.0)\n",
    "        data = print_figure(fig, format)\n",
    "        # We MUST close the figure, otherwise IPython's display machinery\n",
    "        # will pick it up and send it as output, resulting in a double display\n",
    "        plt.close(fig)\n",
    "        return data\n",
    "        \n",
    "    def _repr_png_(self):\n",
    "        if self._png_data is None:\n",
    "            self._png_data = self._figure_data('png')\n",
    "        return self._png_data\n",
    "    \n",
    "    def _repr_latex_(self):\n",
    "        return r'$\\mathcal{N}(\\mu=%.2g, \\sigma=%.2g),\\ N=%d$' % (self.mean,\n",
    "                                                                 self.std, self.size)"
   ]
  }
 ],
 "metadata": {
  "kernelspec": {
   "display_name": "Python 2",
   "language": "python",
   "name": "python2"
  },
  "language_info": {
   "codemirror_mode": {
    "name": "ipython",
    "version": 2
   },
   "file_extension": ".py",
   "mimetype": "text/x-python",
   "name": "python",
   "nbconvert_exporter": "python",
   "pygments_lexer": "ipython2",
   "version": "2.7.12"
  }
 },
 "nbformat": 4,
 "nbformat_minor": 0
}
