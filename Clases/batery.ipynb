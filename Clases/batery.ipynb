{
 "cells": [
  {
   "cell_type": "markdown",
   "metadata": {},
   "source": [
    "Fred es un hombre muy predecible. Por ejemplo, cuando se utiliza su ordenador portátil, lo único que hace es ver programas de televisión. Siempre relojes hasta que su batería se agota. Él es también un hombre muy meticuloso. Se ha guardado los registros de cada vez que se haya cargado a su ordenador portátil, que incluye el tiempo que le encargó a su ordenador portátil y por cuánto tiempo fue capaz de ver la televisión para después. Ahora, Fred quiere utilizar este registro para predecir cuánto tiempo va a ser capaz de ver la televisión para cuando empiece para que pueda planificar sus actividades después de ver su programas de televisión en consecuencia.\n",
    "\n",
    "Reto\n",
    "\n",
    "Podrá acceder a la tarjeta de cargas portátil de Fred mediante la lectura del archivo “trainingdata.txt”. El archivo de datos de formación constará de 100 líneas, cada una con 2 números separados por comas. El primer número indica la cantidad de tiempo se cargará la computadora portátil y el segundo indica la cantidad de tiempo que duró la batería. El archivo de datos de entrenamiento se puede descargar aquí (esto será los mismos datos de entrenamiento utilizados cuando se ejecuta el programa). La entrada para cada uno de los casos de prueba consistirá exactamente 1 número redondeado a 2 decimales. Para cada entrada, salida número 1: la cantidad de tiempo que predice su batería durará.\n",
    "\n",
    "Ejemplo de entrada\n",
    "\n",
    "1.50\n",
    "\n",
    "Ejemplo de salida\n",
    "\n",
    "3.00\n",
    "\n",
    "Tanteo\n",
    "\n",
    "Su puntuación será de 10-X, donde X es la suma de las distancias que son de respuesta esperada de cada caso de prueba. Por ejemplo, si hay 2 casos de prueba con respuesta esperada 4 y se imprimen 3 para el primero y 6 para el segundo su puntuación será de 10 (1 + 2) = 7.\n",
    "[DAtos](https://s3.amazonaws.com/hr-testcases/399/assets/trainingdata.txt)"
   ]
  },
  {
   "cell_type": "code",
   "execution_count": null,
   "metadata": {
    "collapsed": true
   },
   "outputs": [],
   "source": [
    "from numpy import *\n",
    "def loadDataset(fileName):\n",
    "    numFeat = len(open(fileName).readline().split('\\t')) -1\n",
    "    dataMat = "
   ]
  }
 ],
 "metadata": {
  "anaconda-cloud": {},
  "kernelspec": {
   "display_name": "Python [conda root]",
   "language": "python",
   "name": "conda-root-py"
  },
  "language_info": {
   "codemirror_mode": {
    "name": "ipython",
    "version": 2
   },
   "file_extension": ".py",
   "mimetype": "text/x-python",
   "name": "python",
   "nbconvert_exporter": "python",
   "pygments_lexer": "ipython2",
   "version": "2.7.13"
  }
 },
 "nbformat": 4,
 "nbformat_minor": 2
}
